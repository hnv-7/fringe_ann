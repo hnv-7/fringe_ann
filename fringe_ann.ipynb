{
  "nbformat": 4,
  "nbformat_minor": 0,
  "metadata": {
    "colab": {
      "provenance": []
    },
    "kernelspec": {
      "name": "python3",
      "display_name": "Python 3"
    },
    "language_info": {
      "name": "python"
    }
  },
  "cells": [
    {
      "cell_type": "code",
      "source": [
        "# Import libraries\n",
        "import pandas as pd\n",
        "import numpy as np\n",
        "import tensorflow as tf\n",
        "from tensorflow.keras.models import Sequential\n",
        "from tensorflow.keras.layers import Dense"
      ],
      "metadata": {
        "id": "HuuQ2PfT-0Tu"
      },
      "execution_count": null,
      "outputs": []
    },
    {
      "cell_type": "code",
      "source": [
        "# Load the dataset\n",
        "dataset = pd.read_excel('data1.xlsx', header=None)\n"
      ],
      "metadata": {
        "id": "4pu-2g6B-2jd"
      },
      "execution_count": null,
      "outputs": []
    },
    {
      "cell_type": "code",
      "source": [
        "\n",
        "# Split the dataset into input features (X) and target variable (y)\n",
        "X = dataset.iloc[:, :-1].values\n",
        "y = dataset.iloc[:, -1].values\n",
        "\n",
        "# Use the same data for training and testing\n",
        "X_train, X_test, y_train, y_test = X, X, y, y\n",
        "\n",
        "# Define the model architecture\n",
        "model = Sequential()\n",
        "model.add(Dense(10, input_dim=3, activation='relu'))\n",
        "model.add(Dense(1, activation='linear'))\n",
        "\n"
      ],
      "metadata": {
        "id": "Q01wUg5T_FPl"
      },
      "execution_count": null,
      "outputs": []
    },
    {
      "cell_type": "code",
      "source": [
        "# Compile the model\n",
        "model.compile(loss='mse', optimizer='adam', metrics=['mse'])\n",
        "\n",
        "# Train the model\n",
        "history = model.fit(X_train, y_train, epochs=100, batch_size=32)\n",
        "\n"
      ],
      "metadata": {
        "colab": {
          "base_uri": "https://localhost:8080/"
        },
        "id": "wjQ8yO5E_KZd",
        "outputId": "e5e627dd-45af-448f-92cb-a3214ffd7ca0"
      },
      "execution_count": null,
      "outputs": [
        {
          "output_type": "stream",
          "name": "stdout",
          "text": [
            "Epoch 1/100\n",
            "17/17 [==============================] - 1s 2ms/step - loss: 42.0787 - mse: 42.0787\n",
            "Epoch 2/100\n",
            "17/17 [==============================] - 0s 2ms/step - loss: 28.9215 - mse: 28.9215\n",
            "Epoch 3/100\n",
            "17/17 [==============================] - 0s 2ms/step - loss: 19.8558 - mse: 19.8558\n",
            "Epoch 4/100\n",
            "17/17 [==============================] - 0s 2ms/step - loss: 13.7211 - mse: 13.7211\n",
            "Epoch 5/100\n",
            "17/17 [==============================] - 0s 2ms/step - loss: 9.7115 - mse: 9.7115\n",
            "Epoch 6/100\n",
            "17/17 [==============================] - 0s 2ms/step - loss: 7.0776 - mse: 7.0776\n",
            "Epoch 7/100\n",
            "17/17 [==============================] - 0s 2ms/step - loss: 5.1620 - mse: 5.1620\n",
            "Epoch 8/100\n",
            "17/17 [==============================] - 0s 2ms/step - loss: 3.8003 - mse: 3.8003\n",
            "Epoch 9/100\n",
            "17/17 [==============================] - 0s 2ms/step - loss: 2.8148 - mse: 2.8148\n",
            "Epoch 10/100\n",
            "17/17 [==============================] - 0s 2ms/step - loss: 2.1348 - mse: 2.1348\n",
            "Epoch 11/100\n",
            "17/17 [==============================] - 0s 2ms/step - loss: 1.6131 - mse: 1.6131\n",
            "Epoch 12/100\n",
            "17/17 [==============================] - 0s 3ms/step - loss: 1.2496 - mse: 1.2496\n",
            "Epoch 13/100\n",
            "17/17 [==============================] - 0s 2ms/step - loss: 0.9880 - mse: 0.9880\n",
            "Epoch 14/100\n",
            "17/17 [==============================] - 0s 2ms/step - loss: 0.7941 - mse: 0.7941\n",
            "Epoch 15/100\n",
            "17/17 [==============================] - 0s 2ms/step - loss: 0.6506 - mse: 0.6506\n",
            "Epoch 16/100\n",
            "17/17 [==============================] - 0s 2ms/step - loss: 0.5475 - mse: 0.5475\n",
            "Epoch 17/100\n",
            "17/17 [==============================] - 0s 2ms/step - loss: 0.4802 - mse: 0.4802\n",
            "Epoch 18/100\n",
            "17/17 [==============================] - 0s 2ms/step - loss: 0.4283 - mse: 0.4283\n",
            "Epoch 19/100\n",
            "17/17 [==============================] - 0s 2ms/step - loss: 0.3922 - mse: 0.3922\n",
            "Epoch 20/100\n",
            "17/17 [==============================] - 0s 2ms/step - loss: 0.3678 - mse: 0.3678\n",
            "Epoch 21/100\n",
            "17/17 [==============================] - 0s 2ms/step - loss: 0.3489 - mse: 0.3489\n",
            "Epoch 22/100\n",
            "17/17 [==============================] - 0s 2ms/step - loss: 0.3360 - mse: 0.3360\n",
            "Epoch 23/100\n",
            "17/17 [==============================] - 0s 2ms/step - loss: 0.3263 - mse: 0.3263\n",
            "Epoch 24/100\n",
            "17/17 [==============================] - 0s 2ms/step - loss: 0.3189 - mse: 0.3189\n",
            "Epoch 25/100\n",
            "17/17 [==============================] - 0s 2ms/step - loss: 0.3178 - mse: 0.3178\n",
            "Epoch 26/100\n",
            "17/17 [==============================] - 0s 2ms/step - loss: 0.3081 - mse: 0.3081\n",
            "Epoch 27/100\n",
            "17/17 [==============================] - 0s 2ms/step - loss: 0.3034 - mse: 0.3034\n",
            "Epoch 28/100\n",
            "17/17 [==============================] - 0s 2ms/step - loss: 0.3022 - mse: 0.3022\n",
            "Epoch 29/100\n",
            "17/17 [==============================] - 0s 2ms/step - loss: 0.3158 - mse: 0.3158\n",
            "Epoch 30/100\n",
            "17/17 [==============================] - 0s 2ms/step - loss: 0.3065 - mse: 0.3065\n",
            "Epoch 31/100\n",
            "17/17 [==============================] - 0s 2ms/step - loss: 0.2923 - mse: 0.2923\n",
            "Epoch 32/100\n",
            "17/17 [==============================] - 0s 2ms/step - loss: 0.2908 - mse: 0.2908\n",
            "Epoch 33/100\n",
            "17/17 [==============================] - 0s 2ms/step - loss: 0.2892 - mse: 0.2892\n",
            "Epoch 34/100\n",
            "17/17 [==============================] - 0s 2ms/step - loss: 0.2891 - mse: 0.2891\n",
            "Epoch 35/100\n",
            "17/17 [==============================] - 0s 2ms/step - loss: 0.2832 - mse: 0.2832\n",
            "Epoch 36/100\n",
            "17/17 [==============================] - 0s 2ms/step - loss: 0.2813 - mse: 0.2813\n",
            "Epoch 37/100\n",
            "17/17 [==============================] - 0s 2ms/step - loss: 0.2797 - mse: 0.2797\n",
            "Epoch 38/100\n",
            "17/17 [==============================] - 0s 2ms/step - loss: 0.2812 - mse: 0.2812\n",
            "Epoch 39/100\n",
            "17/17 [==============================] - 0s 2ms/step - loss: 0.2775 - mse: 0.2775\n",
            "Epoch 40/100\n",
            "17/17 [==============================] - 0s 2ms/step - loss: 0.2739 - mse: 0.2739\n",
            "Epoch 41/100\n",
            "17/17 [==============================] - 0s 2ms/step - loss: 0.2728 - mse: 0.2728\n",
            "Epoch 42/100\n",
            "17/17 [==============================] - 0s 2ms/step - loss: 0.2706 - mse: 0.2706\n",
            "Epoch 43/100\n",
            "17/17 [==============================] - 0s 2ms/step - loss: 0.2683 - mse: 0.2683\n",
            "Epoch 44/100\n",
            "17/17 [==============================] - 0s 3ms/step - loss: 0.2668 - mse: 0.2668\n",
            "Epoch 45/100\n",
            "17/17 [==============================] - 0s 2ms/step - loss: 0.2663 - mse: 0.2663\n",
            "Epoch 46/100\n",
            "17/17 [==============================] - 0s 2ms/step - loss: 0.2648 - mse: 0.2648\n",
            "Epoch 47/100\n",
            "17/17 [==============================] - 0s 2ms/step - loss: 0.2634 - mse: 0.2634\n",
            "Epoch 48/100\n",
            "17/17 [==============================] - 0s 2ms/step - loss: 0.2610 - mse: 0.2610\n",
            "Epoch 49/100\n",
            "17/17 [==============================] - 0s 2ms/step - loss: 0.2634 - mse: 0.2634\n",
            "Epoch 50/100\n",
            "17/17 [==============================] - 0s 2ms/step - loss: 0.2590 - mse: 0.2590\n",
            "Epoch 51/100\n",
            "17/17 [==============================] - 0s 2ms/step - loss: 0.2617 - mse: 0.2617\n",
            "Epoch 52/100\n",
            "17/17 [==============================] - 0s 2ms/step - loss: 0.2557 - mse: 0.2557\n",
            "Epoch 53/100\n",
            "17/17 [==============================] - 0s 2ms/step - loss: 0.2577 - mse: 0.2577\n",
            "Epoch 54/100\n",
            "17/17 [==============================] - 0s 2ms/step - loss: 0.2546 - mse: 0.2546\n",
            "Epoch 55/100\n",
            "17/17 [==============================] - 0s 2ms/step - loss: 0.2544 - mse: 0.2544\n",
            "Epoch 56/100\n",
            "17/17 [==============================] - 0s 3ms/step - loss: 0.2546 - mse: 0.2546\n",
            "Epoch 57/100\n",
            "17/17 [==============================] - 0s 2ms/step - loss: 0.2674 - mse: 0.2674\n",
            "Epoch 58/100\n",
            "17/17 [==============================] - 0s 2ms/step - loss: 0.2545 - mse: 0.2545\n",
            "Epoch 59/100\n",
            "17/17 [==============================] - 0s 2ms/step - loss: 0.2495 - mse: 0.2495\n",
            "Epoch 60/100\n",
            "17/17 [==============================] - 0s 2ms/step - loss: 0.2503 - mse: 0.2503\n",
            "Epoch 61/100\n",
            "17/17 [==============================] - 0s 2ms/step - loss: 0.2502 - mse: 0.2502\n",
            "Epoch 62/100\n",
            "17/17 [==============================] - 0s 2ms/step - loss: 0.2458 - mse: 0.2458\n",
            "Epoch 63/100\n",
            "17/17 [==============================] - 0s 2ms/step - loss: 0.2465 - mse: 0.2465\n",
            "Epoch 64/100\n",
            "17/17 [==============================] - 0s 2ms/step - loss: 0.2525 - mse: 0.2525\n",
            "Epoch 65/100\n",
            "17/17 [==============================] - 0s 2ms/step - loss: 0.2460 - mse: 0.2460\n",
            "Epoch 66/100\n",
            "17/17 [==============================] - 0s 2ms/step - loss: 0.2430 - mse: 0.2430\n",
            "Epoch 67/100\n",
            "17/17 [==============================] - 0s 2ms/step - loss: 0.2468 - mse: 0.2468\n",
            "Epoch 68/100\n",
            "17/17 [==============================] - 0s 2ms/step - loss: 0.2478 - mse: 0.2478\n",
            "Epoch 69/100\n",
            "17/17 [==============================] - 0s 2ms/step - loss: 0.2537 - mse: 0.2537\n",
            "Epoch 70/100\n",
            "17/17 [==============================] - 0s 2ms/step - loss: 0.2416 - mse: 0.2416\n",
            "Epoch 71/100\n",
            "17/17 [==============================] - 0s 2ms/step - loss: 0.2403 - mse: 0.2403\n",
            "Epoch 72/100\n",
            "17/17 [==============================] - 0s 2ms/step - loss: 0.2393 - mse: 0.2393\n",
            "Epoch 73/100\n",
            "17/17 [==============================] - 0s 2ms/step - loss: 0.2398 - mse: 0.2398\n",
            "Epoch 74/100\n",
            "17/17 [==============================] - 0s 2ms/step - loss: 0.2379 - mse: 0.2379\n",
            "Epoch 75/100\n",
            "17/17 [==============================] - 0s 2ms/step - loss: 0.2413 - mse: 0.2413\n",
            "Epoch 76/100\n",
            "17/17 [==============================] - 0s 2ms/step - loss: 0.2401 - mse: 0.2401\n",
            "Epoch 77/100\n",
            "17/17 [==============================] - 0s 2ms/step - loss: 0.2396 - mse: 0.2396\n",
            "Epoch 78/100\n",
            "17/17 [==============================] - 0s 2ms/step - loss: 0.2393 - mse: 0.2393\n",
            "Epoch 79/100\n",
            "17/17 [==============================] - 0s 2ms/step - loss: 0.2435 - mse: 0.2435\n",
            "Epoch 80/100\n",
            "17/17 [==============================] - 0s 2ms/step - loss: 0.2347 - mse: 0.2347\n",
            "Epoch 81/100\n",
            "17/17 [==============================] - 0s 4ms/step - loss: 0.2359 - mse: 0.2359\n",
            "Epoch 82/100\n",
            "17/17 [==============================] - 0s 2ms/step - loss: 0.2372 - mse: 0.2372\n",
            "Epoch 83/100\n",
            "17/17 [==============================] - 0s 2ms/step - loss: 0.2471 - mse: 0.2471\n",
            "Epoch 84/100\n",
            "17/17 [==============================] - 0s 2ms/step - loss: 0.2433 - mse: 0.2433\n",
            "Epoch 85/100\n",
            "17/17 [==============================] - 0s 2ms/step - loss: 0.2337 - mse: 0.2337\n",
            "Epoch 86/100\n",
            "17/17 [==============================] - 0s 2ms/step - loss: 0.2348 - mse: 0.2348\n",
            "Epoch 87/100\n",
            "17/17 [==============================] - 0s 2ms/step - loss: 0.2343 - mse: 0.2343\n",
            "Epoch 88/100\n",
            "17/17 [==============================] - 0s 2ms/step - loss: 0.2356 - mse: 0.2356\n",
            "Epoch 89/100\n",
            "17/17 [==============================] - 0s 2ms/step - loss: 0.2315 - mse: 0.2315\n",
            "Epoch 90/100\n",
            "17/17 [==============================] - 0s 2ms/step - loss: 0.2336 - mse: 0.2336\n",
            "Epoch 91/100\n",
            "17/17 [==============================] - 0s 2ms/step - loss: 0.2335 - mse: 0.2335\n",
            "Epoch 92/100\n",
            "17/17 [==============================] - 0s 2ms/step - loss: 0.2330 - mse: 0.2330\n",
            "Epoch 93/100\n",
            "17/17 [==============================] - 0s 2ms/step - loss: 0.2321 - mse: 0.2321\n",
            "Epoch 94/100\n",
            "17/17 [==============================] - 0s 2ms/step - loss: 0.2355 - mse: 0.2355\n",
            "Epoch 95/100\n",
            "17/17 [==============================] - 0s 2ms/step - loss: 0.2359 - mse: 0.2359\n",
            "Epoch 96/100\n",
            "17/17 [==============================] - 0s 2ms/step - loss: 0.2325 - mse: 0.2325\n",
            "Epoch 97/100\n",
            "17/17 [==============================] - 0s 2ms/step - loss: 0.2337 - mse: 0.2337\n",
            "Epoch 98/100\n",
            "17/17 [==============================] - 0s 2ms/step - loss: 0.2333 - mse: 0.2333\n",
            "Epoch 99/100\n",
            "17/17 [==============================] - 0s 2ms/step - loss: 0.2310 - mse: 0.2310\n",
            "Epoch 100/100\n",
            "17/17 [==============================] - 0s 2ms/step - loss: 0.2298 - mse: 0.2298\n"
          ]
        }
      ]
    },
    {
      "cell_type": "code",
      "source": [
        "# Evaluate the model\n",
        "mse, _ = model.evaluate(X_test, y_test)\n",
        "print(f'Mean Squared Error: {mse:.2f}')"
      ],
      "metadata": {
        "colab": {
          "base_uri": "https://localhost:8080/"
        },
        "id": "961whAO7_MaE",
        "outputId": "6bde6481-dc8a-4bec-8c8c-765b8fcd3081"
      },
      "execution_count": null,
      "outputs": [
        {
          "output_type": "stream",
          "name": "stdout",
          "text": [
            "17/17 [==============================] - 0s 3ms/step - loss: 0.2295 - mse: 0.2295\n",
            "Mean Squared Error: 0.23\n"
          ]
        }
      ]
    },
    {
      "cell_type": "code",
      "source": [
        "\n",
        "# Make predictions\n",
        "y_pred = model.predict(X_test)\n",
        "\n",
        "# Print the first 5 predictions\n",
        "print(y_pred[:5])"
      ],
      "metadata": {
        "colab": {
          "base_uri": "https://localhost:8080/"
        },
        "id": "igC0yfhq_QL8",
        "outputId": "e2aaed37-9bf2-4b33-a6b0-892befa44dee"
      },
      "execution_count": null,
      "outputs": [
        {
          "output_type": "stream",
          "name": "stdout",
          "text": [
            "17/17 [==============================] - 0s 4ms/step\n",
            "[[0.54019314]\n",
            " [0.5397547 ]\n",
            " [0.5457137 ]\n",
            " [0.54019314]\n",
            " [0.54019314]]\n"
          ]
        }
      ]
    },
    {
      "cell_type": "code",
      "source": [
        "import matplotlib.pyplot as plt\n",
        "\n",
        "# Plot the actual and predicted output\n",
        "plt.scatter(range(len(y_test)), y_test, color='b', label='Actual')\n",
        "plt.scatter(range(len(y_pred)), y_pred, color='r', label='Predicted')\n",
        "plt.legend()\n",
        "plt.show()"
      ],
      "metadata": {
        "colab": {
          "base_uri": "https://localhost:8080/",
          "height": 430
        },
        "id": "9NVuvmGd_pJ1",
        "outputId": "c54239cc-bc84-4b25-fe2b-5a1d53751cd6"
      },
      "execution_count": null,
      "outputs": [
        {
          "output_type": "display_data",
          "data": {
            "text/plain": [
              "<Figure size 640x480 with 1 Axes>"
            ],
            "image/png": "[encoded data removed]"
          },
          "metadata": {}
        }
      ]
    }
  ]
}